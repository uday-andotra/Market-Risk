{
 "cells": [
  {
   "cell_type": "code",
   "execution_count": 1,
   "id": "faacb730-a03b-423e-b1fa-2341ff74c1c0",
   "metadata": {
    "collapsed": true,
    "jupyter": {
     "outputs_hidden": true
    },
    "scrolled": true
   },
   "outputs": [
    {
     "name": "stdout",
     "output_type": "stream",
     "text": [
      "Requirement already satisfied: requests in /Users/udayveersinghandotra/Library/jupyterlab-desktop/envs/env_1/lib/python3.12/site-packages (from -r requirements.txt (line 1)) (2.32.3)\n",
      "Requirement already satisfied: networkx in /Users/udayveersinghandotra/Library/jupyterlab-desktop/envs/env_1/lib/python3.12/site-packages (from -r requirements.txt (line 2)) (3.3)\n",
      "Requirement already satisfied: numpy in /Users/udayveersinghandotra/Library/jupyterlab-desktop/envs/env_1/lib/python3.12/site-packages (from -r requirements.txt (line 3)) (1.26.4)\n",
      "Requirement already satisfied: pandas in /Users/udayveersinghandotra/Library/jupyterlab-desktop/envs/env_1/lib/python3.12/site-packages (from -r requirements.txt (line 4)) (2.3.1)\n",
      "Requirement already satisfied: scikit-learn in /Users/udayveersinghandotra/Library/jupyterlab-desktop/envs/env_1/lib/python3.12/site-packages (from -r requirements.txt (line 5)) (1.5.2)\n",
      "Requirement already satisfied: matplotlib in /Users/udayveersinghandotra/.local/lib/python3.12/site-packages (from -r requirements.txt (line 6)) (3.10.1)\n",
      "Requirement already satisfied: seaborn in /Users/udayveersinghandotra/Library/jupyterlab-desktop/envs/env_1/lib/python3.12/site-packages (from -r requirements.txt (line 7)) (0.13.2)\n",
      "Requirement already satisfied: scipy in /Users/udayveersinghandotra/Library/jupyterlab-desktop/envs/env_1/lib/python3.12/site-packages (from -r requirements.txt (line 8)) (1.12.0)\n",
      "Requirement already satisfied: xgboost in /Users/udayveersinghandotra/Library/jupyterlab-desktop/envs/env_1/lib/python3.12/site-packages (from -r requirements.txt (line 9)) (3.0.2)\n",
      "Requirement already satisfied: tkcalendar in /Users/udayveersinghandotra/Library/jupyterlab-desktop/envs/env_1/lib/python3.12/site-packages (from -r requirements.txt (line 10)) (1.6.1)\n",
      "Requirement already satisfied: python-dotenv in /Users/udayveersinghandotra/Library/jupyterlab-desktop/envs/env_1/lib/python3.12/site-packages (from -r requirements.txt (line 11)) (1.0.1)\n",
      "Requirement already satisfied: charset-normalizer<4,>=2 in /Users/udayveersinghandotra/Library/jupyterlab-desktop/envs/env_1/lib/python3.12/site-packages (from requests->-r requirements.txt (line 1)) (3.3.2)\n",
      "Requirement already satisfied: idna<4,>=2.5 in /Users/udayveersinghandotra/Library/jupyterlab-desktop/envs/env_1/lib/python3.12/site-packages (from requests->-r requirements.txt (line 1)) (3.6)\n",
      "Requirement already satisfied: urllib3<3,>=1.21.1 in /Users/udayveersinghandotra/Library/jupyterlab-desktop/envs/env_1/lib/python3.12/site-packages (from requests->-r requirements.txt (line 1)) (2.2.1)\n",
      "Requirement already satisfied: certifi>=2017.4.17 in /Users/udayveersinghandotra/Library/jupyterlab-desktop/envs/env_1/lib/python3.12/site-packages (from requests->-r requirements.txt (line 1)) (2024.2.2)\n",
      "Requirement already satisfied: python-dateutil>=2.8.2 in /Users/udayveersinghandotra/Library/jupyterlab-desktop/envs/env_1/lib/python3.12/site-packages (from pandas->-r requirements.txt (line 4)) (2.9.0)\n",
      "Requirement already satisfied: pytz>=2020.1 in /Users/udayveersinghandotra/Library/jupyterlab-desktop/envs/env_1/lib/python3.12/site-packages (from pandas->-r requirements.txt (line 4)) (2024.1)\n",
      "Requirement already satisfied: tzdata>=2022.7 in /Users/udayveersinghandotra/Library/jupyterlab-desktop/envs/env_1/lib/python3.12/site-packages (from pandas->-r requirements.txt (line 4)) (2024.1)\n",
      "Requirement already satisfied: joblib>=1.2.0 in /Users/udayveersinghandotra/Library/jupyterlab-desktop/envs/env_1/lib/python3.12/site-packages (from scikit-learn->-r requirements.txt (line 5)) (1.4.2)\n",
      "Requirement already satisfied: threadpoolctl>=3.1.0 in /Users/udayveersinghandotra/Library/jupyterlab-desktop/envs/env_1/lib/python3.12/site-packages (from scikit-learn->-r requirements.txt (line 5)) (3.5.0)\n",
      "Requirement already satisfied: contourpy>=1.0.1 in /Users/udayveersinghandotra/Library/jupyterlab-desktop/envs/env_1/lib/python3.12/site-packages (from matplotlib->-r requirements.txt (line 6)) (1.2.0)\n",
      "Requirement already satisfied: cycler>=0.10 in /Users/udayveersinghandotra/Library/jupyterlab-desktop/envs/env_1/lib/python3.12/site-packages (from matplotlib->-r requirements.txt (line 6)) (0.12.1)\n",
      "Requirement already satisfied: fonttools>=4.22.0 in /Users/udayveersinghandotra/Library/jupyterlab-desktop/envs/env_1/lib/python3.12/site-packages (from matplotlib->-r requirements.txt (line 6)) (4.49.0)\n",
      "Requirement already satisfied: kiwisolver>=1.3.1 in /Users/udayveersinghandotra/Library/jupyterlab-desktop/envs/env_1/lib/python3.12/site-packages (from matplotlib->-r requirements.txt (line 6)) (1.4.5)\n",
      "Requirement already satisfied: packaging>=20.0 in /Users/udayveersinghandotra/Library/jupyterlab-desktop/envs/env_1/lib/python3.12/site-packages (from matplotlib->-r requirements.txt (line 6)) (24.0)\n",
      "Requirement already satisfied: pillow>=8 in /Users/udayveersinghandotra/.local/lib/python3.12/site-packages (from matplotlib->-r requirements.txt (line 6)) (11.1.0)\n",
      "Requirement already satisfied: pyparsing>=2.3.1 in /Users/udayveersinghandotra/Library/jupyterlab-desktop/envs/env_1/lib/python3.12/site-packages (from matplotlib->-r requirements.txt (line 6)) (3.1.2)\n",
      "Requirement already satisfied: babel in /Users/udayveersinghandotra/Library/jupyterlab-desktop/envs/env_1/lib/python3.12/site-packages (from tkcalendar->-r requirements.txt (line 10)) (2.14.0)\n",
      "Requirement already satisfied: six>=1.5 in /Users/udayveersinghandotra/Library/jupyterlab-desktop/envs/env_1/lib/python3.12/site-packages (from python-dateutil>=2.8.2->pandas->-r requirements.txt (line 4)) (1.16.0)\n"
     ]
    }
   ],
   "source": [
    "!pip install -r requirements.txt"
   ]
  },
  {
   "cell_type": "code",
   "execution_count": 2,
   "id": "c5223b6e-cbdb-438e-99fb-ca0953efcc17",
   "metadata": {
    "scrolled": true
   },
   "outputs": [],
   "source": [
    "%run main.py"
   ]
  },
  {
   "cell_type": "code",
   "execution_count": null,
   "id": "a89e4a7c-e7d8-489d-8a65-c5de7cbc5e5d",
   "metadata": {},
   "outputs": [],
   "source": []
  }
 ],
 "metadata": {
  "kernelspec": {
   "display_name": "Python 3 (ipykernel)",
   "language": "python",
   "name": "python3"
  },
  "language_info": {
   "codemirror_mode": {
    "name": "ipython",
    "version": 3
   },
   "file_extension": ".py",
   "mimetype": "text/x-python",
   "name": "python",
   "nbconvert_exporter": "python",
   "pygments_lexer": "ipython3",
   "version": "3.12.2"
  }
 },
 "nbformat": 4,
 "nbformat_minor": 5
}
